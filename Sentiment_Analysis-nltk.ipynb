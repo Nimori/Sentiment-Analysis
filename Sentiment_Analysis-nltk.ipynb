{
 "cells": [
  {
   "cell_type": "code",
   "execution_count": 1,
   "metadata": {},
   "outputs": [],
   "source": [
    "import nltk\n",
    "from nltk.tokenize import word_tokenize\n",
    "# Step 1 – Training data\n",
    "train = [(\"Great place to be when you are in Bangalore.\", \"pos\"), (\"The place was being renovated when I visited so the seating was limited.\", \"neg\"), (\"Loved the ambience, loved the food\", \"pos\"), (\"The food is delicious but not over the top.\", \"neg\"), (\"Service - Little slow, probably because too many people.\", \"neg\"), (\"The place is not easy to locate\", \"neg\"), (\"Mushroom fried rice was spicy\", \"pos\") ]"
   ]
  },
  {
   "cell_type": "code",
   "execution_count": 2,
   "metadata": {},
   "outputs": [
    {
     "data": {
      "text/plain": [
       "[('Great place to be when you are in Bangalore.', 'pos'),\n",
       " ('The place was being renovated when I visited so the seating was limited.',\n",
       "  'neg'),\n",
       " ('Loved the ambience, loved the food', 'pos'),\n",
       " ('The food is delicious but not over the top.', 'neg'),\n",
       " ('Service - Little slow, probably because too many people.', 'neg'),\n",
       " ('The place is not easy to locate', 'neg'),\n",
       " ('Mushroom fried rice was spicy', 'pos')]"
      ]
     },
     "execution_count": 2,
     "metadata": {},
     "output_type": "execute_result"
    }
   ],
   "source": [
    "train"
   ]
  },
  {
   "cell_type": "code",
   "execution_count": 3,
   "metadata": {},
   "outputs": [
    {
     "name": "stdout",
     "output_type": "stream",
     "text": [
      "*dictionary*\n",
      "{'when', '.', 'is', 'mushroom', 'not', 'i', 'being', 'place', 'slow', 'loved', 'food', 'spicy', 'great', 'you', 'fried', ',', 'in', 'ambience', 'top', 'because', 'little', 'limited', 'bangalore', 'so', 'many', 'but', 'service', 'too', 'renovated', '-', 'visited', 'the', 'be', 'people', 'locate', 'to', 'easy', 'are', 'rice', 'seating', 'over', 'probably', 'delicious', 'was'}\n"
     ]
    }
   ],
   "source": [
    "# Step 2\n",
    "dictionary = set(word.lower() for passage in train for word in word_tokenize(passage[0]))\n",
    "print(\"*dictionary*\")\n",
    "print(dictionary)"
   ]
  },
  {
   "cell_type": "code",
   "execution_count": 4,
   "metadata": {
    "scrolled": true
   },
   "outputs": [
    {
     "name": "stdout",
     "output_type": "stream",
     "text": [
      "*t*\n",
      "[({'when': True, '.': True, 'is': False, 'mushroom': False, 'not': False, 'i': False, 'being': False, 'place': True, 'slow': False, 'loved': False, 'food': False, 'spicy': False, 'great': False, 'you': True, 'fried': False, ',': False, 'in': True, 'ambience': False, 'top': False, 'because': False, 'little': False, 'limited': False, 'bangalore': False, 'so': False, 'many': False, 'but': False, 'service': False, 'too': False, 'renovated': False, '-': False, 'visited': False, 'the': False, 'be': True, 'people': False, 'locate': False, 'to': True, 'easy': False, 'are': True, 'rice': False, 'seating': False, 'over': False, 'probably': False, 'delicious': False, 'was': False}, 'pos'), ({'when': True, '.': True, 'is': False, 'mushroom': False, 'not': False, 'i': False, 'being': True, 'place': True, 'slow': False, 'loved': False, 'food': False, 'spicy': False, 'great': False, 'you': False, 'fried': False, ',': False, 'in': False, 'ambience': False, 'top': False, 'because': False, 'little': False, 'limited': True, 'bangalore': False, 'so': True, 'many': False, 'but': False, 'service': False, 'too': False, 'renovated': True, '-': False, 'visited': True, 'the': True, 'be': False, 'people': False, 'locate': False, 'to': False, 'easy': False, 'are': False, 'rice': False, 'seating': True, 'over': False, 'probably': False, 'delicious': False, 'was': True}, 'neg'), ({'when': False, '.': False, 'is': False, 'mushroom': False, 'not': False, 'i': False, 'being': False, 'place': False, 'slow': False, 'loved': True, 'food': True, 'spicy': False, 'great': False, 'you': False, 'fried': False, ',': True, 'in': False, 'ambience': True, 'top': False, 'because': False, 'little': False, 'limited': False, 'bangalore': False, 'so': False, 'many': False, 'but': False, 'service': False, 'too': False, 'renovated': False, '-': False, 'visited': False, 'the': True, 'be': False, 'people': False, 'locate': False, 'to': False, 'easy': False, 'are': False, 'rice': False, 'seating': False, 'over': False, 'probably': False, 'delicious': False, 'was': False}, 'pos'), ({'when': False, '.': True, 'is': True, 'mushroom': False, 'not': True, 'i': False, 'being': False, 'place': False, 'slow': False, 'loved': False, 'food': True, 'spicy': False, 'great': False, 'you': False, 'fried': False, ',': False, 'in': False, 'ambience': False, 'top': True, 'because': False, 'little': False, 'limited': False, 'bangalore': False, 'so': False, 'many': False, 'but': True, 'service': False, 'too': False, 'renovated': False, '-': False, 'visited': False, 'the': True, 'be': False, 'people': False, 'locate': False, 'to': False, 'easy': False, 'are': False, 'rice': False, 'seating': False, 'over': True, 'probably': False, 'delicious': True, 'was': False}, 'neg'), ({'when': False, '.': True, 'is': False, 'mushroom': False, 'not': False, 'i': False, 'being': False, 'place': False, 'slow': True, 'loved': False, 'food': False, 'spicy': False, 'great': False, 'you': False, 'fried': False, ',': True, 'in': False, 'ambience': False, 'top': False, 'because': True, 'little': False, 'limited': False, 'bangalore': False, 'so': False, 'many': True, 'but': False, 'service': False, 'too': True, 'renovated': False, '-': True, 'visited': False, 'the': False, 'be': False, 'people': True, 'locate': False, 'to': False, 'easy': False, 'are': False, 'rice': False, 'seating': False, 'over': False, 'probably': True, 'delicious': False, 'was': False}, 'neg'), ({'when': False, '.': False, 'is': True, 'mushroom': False, 'not': True, 'i': False, 'being': False, 'place': True, 'slow': False, 'loved': False, 'food': False, 'spicy': False, 'great': False, 'you': False, 'fried': False, ',': False, 'in': False, 'ambience': False, 'top': False, 'because': False, 'little': False, 'limited': False, 'bangalore': False, 'so': False, 'many': False, 'but': False, 'service': False, 'too': False, 'renovated': False, '-': False, 'visited': False, 'the': False, 'be': False, 'people': False, 'locate': True, 'to': True, 'easy': True, 'are': False, 'rice': False, 'seating': False, 'over': False, 'probably': False, 'delicious': False, 'was': False}, 'neg'), ({'when': False, '.': False, 'is': False, 'mushroom': False, 'not': False, 'i': False, 'being': False, 'place': False, 'slow': False, 'loved': False, 'food': False, 'spicy': True, 'great': False, 'you': False, 'fried': True, ',': False, 'in': False, 'ambience': False, 'top': False, 'because': False, 'little': False, 'limited': False, 'bangalore': False, 'so': False, 'many': False, 'but': False, 'service': False, 'too': False, 'renovated': False, '-': False, 'visited': False, 'the': False, 'be': False, 'people': False, 'locate': False, 'to': False, 'easy': False, 'are': False, 'rice': True, 'seating': False, 'over': False, 'probably': False, 'delicious': False, 'was': True}, 'pos')]\n"
     ]
    }
   ],
   "source": [
    "# Step 3\n",
    "t = [({word: (word in word_tokenize(x[0])) for word in dictionary}, x[1]) for x in train]\n",
    "print(\"*t*\")\n",
    "print(t) "
   ]
  },
  {
   "cell_type": "code",
   "execution_count": 5,
   "metadata": {},
   "outputs": [],
   "source": [
    "# Step 4 – the classifier is trained with sample data\n",
    "classifier = nltk.NaiveBayesClassifier.train(t)"
   ]
  },
  {
   "cell_type": "code",
   "execution_count": 6,
   "metadata": {},
   "outputs": [
    {
     "name": "stdout",
     "output_type": "stream",
     "text": [
      "*test_data_features*\n",
      "***\n",
      "pos\n"
     ]
    }
   ],
   "source": [
    "#step 5-  testing the result - prediction \n",
    "\n",
    "test_data = \"Manchurian was tasty and hot\" #pos\n",
    "test_data = \"seating is limited in resturant\" # neg\n",
    "test_data = \"home not easy to locate\"  #neg\n",
    "#test_data = \"food was delicious\" #pos\n",
    "#test_data = \" Ram had mouth watering food\" #pos\n",
    "test_data = \"sitting was not good\"  #neg\n",
    "\n",
    "test_data_features = {word.lower(): (word in word_tokenize(test_data.lower())) for word in dictionary}\n",
    "print(\"*test_data_features*\")\n",
    "#print(test_data_features)\n",
    "  \n",
    "print(\"***\")\n",
    "print (classifier.classify(test_data_features))"
   ]
  }
 ],
 "metadata": {
  "kernelspec": {
   "display_name": "Python 3",
   "language": "python",
   "name": "python3"
  },
  "language_info": {
   "codemirror_mode": {
    "name": "ipython",
    "version": 3
   },
   "file_extension": ".py",
   "mimetype": "text/x-python",
   "name": "python",
   "nbconvert_exporter": "python",
   "pygments_lexer": "ipython3",
   "version": "3.8.5"
  }
 },
 "nbformat": 4,
 "nbformat_minor": 2
}
